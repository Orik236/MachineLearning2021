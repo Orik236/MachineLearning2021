{
 "cells": [
  {
   "cell_type": "code",
   "execution_count": 7,
   "id": "missing-baseline",
   "metadata": {},
   "outputs": [],
   "source": [
    "import numpy as np\n",
    "import pandas as pd\n",
    "from tqdm import tqdm"
   ]
  },
  {
   "cell_type": "markdown",
   "id": "egyptian-coach",
   "metadata": {},
   "source": [
    "### Task1"
   ]
  },
  {
   "cell_type": "code",
   "execution_count": 14,
   "id": "magnetic-dialogue",
   "metadata": {},
   "outputs": [],
   "source": [
    "def solution_1(a):\n",
    "    bin_a = bin(a)[2:]\n",
    "    best = 0\n",
    "    cnt = 0\n",
    "    idx = 0\n",
    "    for i in tqdm(range(1, len(bin_a))):\n",
    "        if bin_a[i] == '1' and bin_a[idx] == '1':\n",
    "            if cnt > best:\n",
    "                best = cnt\n",
    "            cnt = 0\n",
    "            idx = i\n",
    "        elif bin_a[i] == '0':\n",
    "            cnt+=1\n",
    "        else:\n",
    "            cnt=0\n",
    "        \n",
    "    return best"
   ]
  },
  {
   "cell_type": "code",
   "execution_count": 21,
   "id": "potential-drove",
   "metadata": {},
   "outputs": [
    {
     "name": "stderr",
     "output_type": "stream",
     "text": [
      "100%|███████████████████████████████████████████████████████████████████████████████| 30/30 [00:00<00:00, 30037.99it/s]\n"
     ]
    },
    {
     "data": {
      "text/plain": [
       "1"
      ]
     },
     "execution_count": 21,
     "metadata": {},
     "output_type": "execute_result"
    }
   ],
   "source": [
    "solution_1(2147483645)"
   ]
  }
 ],
 "metadata": {
  "kernelspec": {
   "display_name": "Python 3",
   "language": "python",
   "name": "python3"
  },
  "language_info": {
   "codemirror_mode": {
    "name": "ipython",
    "version": 3
   },
   "file_extension": ".py",
   "mimetype": "text/x-python",
   "name": "python",
   "nbconvert_exporter": "python",
   "pygments_lexer": "ipython3",
   "version": "3.8.5"
  }
 },
 "nbformat": 4,
 "nbformat_minor": 5
}
