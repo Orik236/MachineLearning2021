{
 "cells": [
  {
   "cell_type": "code",
   "execution_count": 1,
   "id": "mighty-bowling",
   "metadata": {},
   "outputs": [],
   "source": [
    "import numpy as np\n",
    "import pandas as pd\n",
    "from tqdm import tqdm\n",
    "from functools import reduce"
   ]
  },
  {
   "cell_type": "markdown",
   "id": "fabulous-consent",
   "metadata": {},
   "source": [
    "### Task1"
   ]
  },
  {
   "cell_type": "code",
   "execution_count": 2,
   "id": "welsh-newton",
   "metadata": {},
   "outputs": [],
   "source": [
    "def solution_1_1(a):\n",
    "    cnt = 0\n",
    "    lenght = len(a)\n",
    "    a = np.array(a)\n",
    "    for i in tqdm(range(lenght)):\n",
    "        if cnt >= 10000000:\n",
    "            return -1\n",
    "        cnt += sum(np.abs(np.ones(lenght-i-1)*i-np.arange(i+1, lenght)) <= np.ones(lenght-i-1)*a[i]+a[i+1:])\n",
    "\n",
    "    return cnt\n",
    "\n",
    "def solution_1_2(a):\n",
    "    cnt = 0\n",
    "    lenght = len(a)\n",
    "    for i in tqdm(range(lenght)):\n",
    "        for j in range(i+1, lenght):\n",
    "            if cnt >= 10000000:\n",
    "                return -1\n",
    "            cnt += abs(i-j) <= a[i]+a[j]\n",
    "\n",
    "    return cnt"
   ]
  },
  {
   "cell_type": "code",
   "execution_count": 3,
   "id": "emotional-distributor",
   "metadata": {},
   "outputs": [
    {
     "name": "stderr",
     "output_type": "stream",
     "text": [
      "  0%|                                                                           | 100/100000 [00:31<8:50:44,  3.14it/s]\n"
     ]
    },
    {
     "data": {
      "text/plain": [
       "-1"
      ]
     },
     "execution_count": 3,
     "metadata": {},
     "output_type": "execute_result"
    }
   ],
   "source": [
    "# solution_1_2([1, 5, 2, 1, 4, 0])\n",
    "solution_1_2(np.random.randint(0, 2147483648, size=100000, dtype=np.int64))"
   ]
  },
  {
   "cell_type": "code",
   "execution_count": 4,
   "id": "occupational-class",
   "metadata": {},
   "outputs": [
    {
     "name": "stderr",
     "output_type": "stream",
     "text": [
      "  0%|                                                                           | 101/100000 [00:21<5:52:18,  4.73it/s]\n"
     ]
    },
    {
     "data": {
      "text/plain": [
       "-1"
      ]
     },
     "execution_count": 4,
     "metadata": {},
     "output_type": "execute_result"
    }
   ],
   "source": [
    "# solution_1_1([1, 5, 2, 1, 4, 0])\n",
    "solution_1_1(np.random.randint(0, 2147483648, size=100000, dtype=np.int64))"
   ]
  },
  {
   "cell_type": "markdown",
   "id": "original-clause",
   "metadata": {},
   "source": [
    "### Task2"
   ]
  },
  {
   "cell_type": "code",
   "execution_count": 5,
   "id": "mineral-bench",
   "metadata": {},
   "outputs": [],
   "source": [
    "def solution_2_1(a):\n",
    "    unique, counts = np.unique(a, return_counts=True)\n",
    "    return unique[np.argsort(counts)[0]]\n",
    "\n",
    "def solution_2_2(a):\n",
    "    uniq = set(a)\n",
    "    for i in tqdm(uniq):\n",
    "        cnt = a.count(i)\n",
    "        if cnt == 1:\n",
    "            return i"
   ]
  },
  {
   "cell_type": "code",
   "execution_count": 6,
   "id": "collectible-stack",
   "metadata": {},
   "outputs": [
    {
     "name": "stdout",
     "output_type": "stream",
     "text": [
      "7\n"
     ]
    }
   ],
   "source": [
    "print(solution_2_1([9, 3, 9, 3, 9, 7, 9]))"
   ]
  },
  {
   "cell_type": "code",
   "execution_count": 7,
   "id": "parental-verse",
   "metadata": {},
   "outputs": [
    {
     "name": "stderr",
     "output_type": "stream",
     "text": [
      " 67%|██████████████████████████████████████████████████████▋                           | 2/3 [00:00<00:00, 1999.67it/s]"
     ]
    },
    {
     "name": "stdout",
     "output_type": "stream",
     "text": [
      "7\n"
     ]
    },
    {
     "name": "stderr",
     "output_type": "stream",
     "text": [
      "\n"
     ]
    }
   ],
   "source": [
    "print(solution_2_2([9, 3, 9, 3, 9, 7, 9]))"
   ]
  },
  {
   "cell_type": "markdown",
   "id": "featured-modification",
   "metadata": {},
   "source": [
    "### Task3"
   ]
  },
  {
   "cell_type": "code",
   "execution_count": 65,
   "id": "thick-terrorism",
   "metadata": {},
   "outputs": [],
   "source": [
    "def solution_3_1(size, direction):\n",
    "    lenght = len(size)\n",
    "    cnt = 0\n",
    "    down_idx, up_idx = 0, 1\n",
    "    while True:\n",
    "        if down_idx == len(size)-1:\n",
    "            break\n",
    "        elif direction[down_idx] == 0 or direction[up_idx] == 1:\n",
    "            down_idx += 1\n",
    "            up_idx +=1\n",
    "        else:\n",
    "            if size[down_idx] > size[up_idx]:\n",
    "                del size[up_idx], direction[up_idx]\n",
    "            else:\n",
    "                del size[down_idx], direction[down_idx]\n",
    "                if down_idx != 0:\n",
    "                    up_idx -= 1\n",
    "                    down_idx -= 1\n",
    "            cnt+=1\n",
    "                \n",
    "    return lenght - cnt"
   ]
  },
  {
   "cell_type": "code",
   "execution_count": 66,
   "id": "union-portugal",
   "metadata": {},
   "outputs": [
    {
     "name": "stdout",
     "output_type": "stream",
     "text": [
      "Wall time: 0 ns\n"
     ]
    },
    {
     "data": {
      "text/plain": [
       "4"
      ]
     },
     "execution_count": 66,
     "metadata": {},
     "output_type": "execute_result"
    }
   ],
   "source": [
    "%%time\n",
    "solution_3_1([4, 3, 2, 1, 5, 10, 4, 6], [0, 1, 0, 1, 0, 0, 1, 0])"
   ]
  },
  {
   "cell_type": "code",
   "execution_count": null,
   "id": "occupational-montgomery",
   "metadata": {},
   "outputs": [],
   "source": []
  }
 ],
 "metadata": {
  "kernelspec": {
   "display_name": "Python 3",
   "language": "python",
   "name": "python3"
  },
  "language_info": {
   "codemirror_mode": {
    "name": "ipython",
    "version": 3
   },
   "file_extension": ".py",
   "mimetype": "text/x-python",
   "name": "python",
   "nbconvert_exporter": "python",
   "pygments_lexer": "ipython3",
   "version": "3.8.5"
  }
 },
 "nbformat": 4,
 "nbformat_minor": 5
}
